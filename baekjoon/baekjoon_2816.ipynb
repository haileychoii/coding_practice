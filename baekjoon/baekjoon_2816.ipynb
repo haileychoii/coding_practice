{
  "nbformat": 4,
  "nbformat_minor": 0,
  "metadata": {
    "colab": {
      "provenance": [],
      "authorship_tag": "ABX9TyOY80qRbdjqxOPz7tvTJoZ4",
      "include_colab_link": true
    },
    "kernelspec": {
      "name": "python3",
      "display_name": "Python 3"
    },
    "language_info": {
      "name": "python"
    }
  },
  "cells": [
    {
      "cell_type": "markdown",
      "metadata": {
        "id": "view-in-github",
        "colab_type": "text"
      },
      "source": [
        "<a href=\"https://colab.research.google.com/github/JunheeChoi/coding_practice/blob/main/baekjoon_2816.ipynb\" target=\"_parent\"><img src=\"https://colab.research.google.com/assets/colab-badge.svg\" alt=\"Open In Colab\"/></a>"
      ]
    },
    {
      "cell_type": "markdown",
      "source": [
        "# 2816\n",
        "\n",
        "문제 \n",
        "\n",
        "2012년 12월 31일 새벽 4시부터 지상파 아날로그 TV방송이 종료되었다. TV를 자주보는 할머니를 위해서, 상근이네 집도 디지털 수신기를 구입했다.\n",
        "\n",
        "원래 상근이네 집에는 KBS1과 KBS2만 나왔다. 할머니는 두 방송만 시청한다. 이제 디지털 수신기와 함께 엄청난 양의 채널을 볼 수 있게 되었다. 하지만, 할머니는 오직 KBS1과 KBS2만 보려고 한다. 따라서, 상근이는 채널 리스트를 조절해 KBS1을 첫 번째로, KBS2를 두 번째로 만들려고 한다.\n",
        "\n",
        "티비를 켜면 디지털 수신기는 시청 가능한 채널 리스트를 보여준다. 모든 채널의 이름은 서로 다르고, 항상 KBS1과 KBS2를 포함하고 있다. 상근이는 이 리모콘을 이용해서 리스트의 순서를 바꾸는 법을 알아냈다. 리스트의 왼편에는 작은 화살표가 있고, 이 화살표는 현재 선택한 채널을 나타낸다. 가장 처음에 화살표는 제일 첫 번째 채널을 가리키고 있다.\n",
        "\n",
        "다음과 같은 네 가지 버튼을 이용해서 리스트의 순서를 바꿀 수 있다. 각각은 1번부터 4번까지 번호가 적혀져있는 버튼이다.\n",
        "\n",
        "화살표를 한 칸 아래로 내린다. (채널 i에서 i+1로) 화살표를 위로 한 칸 올린다. (채널 i에서 i-1로) 현재 선택한 채널을 한 칸 아래로 내린다. (채널 i와 i+1의 위치를 바꾼다. 화살표는 i+1을 가리키고 있는다) 현재 선택한 채널을 위로 한 칸 올린다. (채널 i와 i-1의 위치를 바꾼다. 화살표는 i-1을 가리키고 있다) 화살표가 채널 리스트의 범위를 넘어간다면, 그 명령은 무시한다.\n",
        "\n",
        "현재 채널 리스트의 순서가 주어졌을 때, KBS1를 첫 번째로, KBS2를 두 번째로 순서를 바꾸는 방법을 구하는 프로그램을 작성하시오. 방법의 길이는 500보다 작아야 한다. 두 채널을 제외한 나머지 채널의 순서는 상관없다.\n",
        "\n",
        "입력 \n",
        "\n",
        "첫째 줄에 채널의 수 N이 주어진다. (2 ≤ N ≤ 100)\n",
        "\n",
        "다음 N개 줄에는 채널의 이름이 한 줄에 하나씩 주어진다. 채널의 이름은 최대 10글자이고, 알파벳 대문자와 숫자로만 이루어져 있다.\n",
        "\n",
        "이미 KBS1이 첫 번째에, KBS2가 두 번째에 있는 입력은 주어지지 않는다.\n",
        "\n",
        "출력 \n",
        "\n",
        "상근이가 눌러야 하는 버튼을 순서대로 공백없이 출력한다.\n",
        "\n",
        "예제 입력 \n",
        "\n",
        "1 3 MBC KBS1 KBS2 \n",
        "\n",
        "예제 출력 \n",
        "\n",
        "1 33\n",
        "\n",
        " 예제 입력\n",
        " \n",
        "  2 4 ABC1 ABC02 KBS2 KBS1 \n",
        "  \n",
        "  \n",
        "  예제 출력 2 11144411144"
      ],
      "metadata": {
        "id": "462xjQ6tiowI"
      }
    },
    {
      "cell_type": "code",
      "execution_count": 1,
      "metadata": {
        "colab": {
          "base_uri": "https://localhost:8080/"
        },
        "id": "YpcTMlT0ibBP",
        "outputId": "d73a2754-a474-4374-b681-07c326666e43"
      },
      "outputs": [
        {
          "output_type": "stream",
          "name": "stdout",
          "text": [
            "3\n",
            "KBS1\n",
            "MBC\n",
            "KBS2\n",
            "114\n"
          ]
        }
      ],
      "source": [
        "n = int(input())\n",
        "channel = [input() for _ in range(n)]\n",
        "idx1, idx2 = channel.index('KBS1'), channel.index('KBS2')\n",
        "\n",
        "if idx1 > idx2:\n",
        "  idx2 += 1\n",
        "\n",
        "print('1'*idx1 + '4'*idx1 + '1'*idx2 + '4'*(idx2-1))"
      ]
    },
    {
      "cell_type": "code",
      "source": [],
      "metadata": {
        "id": "X_2dgx0Ei6Jw"
      },
      "execution_count": null,
      "outputs": []
    }
  ]
}
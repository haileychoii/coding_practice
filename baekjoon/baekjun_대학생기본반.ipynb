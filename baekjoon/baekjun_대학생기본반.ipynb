{
  "nbformat": 4,
  "nbformat_minor": 0,
  "metadata": {
    "colab": {
      "provenance": [],
      "authorship_tag": "ABX9TyPbZ4zIe7C3r2mTqWxZIiJt",
      "include_colab_link": true
    },
    "kernelspec": {
      "name": "python3",
      "display_name": "Python 3"
    },
    "language_info": {
      "name": "python"
    }
  },
  "cells": [
    {
      "cell_type": "markdown",
      "metadata": {
        "id": "view-in-github",
        "colab_type": "text"
      },
      "source": [
        "<a href=\"https://colab.research.google.com/github/JunheeChoi/coding_practice/blob/main/baekjun_%EB%8C%80%ED%95%99%EC%83%9D%EA%B8%B0%EB%B3%B8%EB%B0%98.ipynb\" target=\"_parent\"><img src=\"https://colab.research.google.com/assets/colab-badge.svg\" alt=\"Open In Colab\"/></a>"
      ]
    },
    {
      "cell_type": "markdown",
      "source": [
        "# 백준 대학생 기본반 문제풀이\n",
        "https://www.acmicpc.net/workbook/view/2047\n"
      ],
      "metadata": {
        "id": "FYT3Sh9lFpUn"
      }
    },
    {
      "cell_type": "markdown",
      "source": [
        "## 1747 : 소수&팰린드롬\n",
        "문제\n",
        "어떤 수와 그 수의 숫자 순서를 뒤집은 수가 일치하는 수를 팰린드롬이라 부른다. 예를 들어 79,197과 324,423 등이 팰린드롬 수이다.\n",
        "\n",
        "어떤 수 N (1 ≤ N ≤ 1,000,000)이 주어졌을 때, N보다 크거나 같고, 소수이면서 팰린드롬인 수 중에서, 가장 작은 수를 구하는 프로그램을 작성하시오.\n",
        "\n",
        "입력\n",
        "첫째 줄에 N이 주어진다.\n",
        "\n",
        "출력\n",
        "첫째 줄에 조건을 만족하는 수를 출력한다.\n",
        "\n",
        "예제 입력 1 \n",
        "31\n",
        "예제 출력 1 \n",
        "101"
      ],
      "metadata": {
        "id": "AFPzkRfzF2WZ"
      }
    },
    {
      "cell_type": "code",
      "execution_count": null,
      "metadata": {
        "colab": {
          "base_uri": "https://localhost:8080/"
        },
        "id": "p8E5pQNZFZqT",
        "outputId": "8e24381e-d186-4533-d661-581c264b5af2"
      },
      "outputs": [
        {
          "output_type": "stream",
          "name": "stdout",
          "text": [
            "1432\n",
            "10301\n"
          ]
        }
      ],
      "source": [
        "import math\n",
        "def isPrime(x):\n",
        "  if x == 1:\n",
        "    return False\n",
        "  for i in range(2, int(math.sqrt(x)+1)):\n",
        "    if x % i == 0 :\n",
        "      return False\n",
        "  return True\n",
        "\n",
        "def isPalindrome(x):\n",
        "  if str(x) == str(x)[::-1]:\n",
        "    return True\n",
        "  else:\n",
        "    return False\n",
        "\n",
        "N = int(input())\n",
        "while True:\n",
        "  if isPrime(N) == True and isPalindrome(N) ==  True :\n",
        "    print(N)\n",
        "    break\n",
        "  N += 1"
      ]
    },
    {
      "cell_type": "markdown",
      "source": [
        "## 1652 : 누울 자리를 찾아라\n",
        "문제\n",
        "일 년 동안 세계일주를 하던 영식이는 여행을 하다 너무 피곤해서 근처에 있는 코레스코 콘도에서 하룻밤 잠을 자기로 하고 방을 잡았다.\n",
        "\n",
        "코레스코 콘도에 있는 방은 NxN의 정사각형모양으로 생겼다. 방 안에는 옮길 수 없는 짐들이 이것저것 많이 있어서 영식이의 누울 자리를 차지하고 있었다. 영식이는 이 열악한 환경에서 누울 수 있는 자리를 찾아야 한다. 영식이가 누울 수 있는 자리에는 조건이 있다. 똑바로 연속해서 2칸 이상의 빈 칸이 존재하면 그 곳에 몸을 양 옆으로 쭉 뻗으면서 누울 수 있다. 가로로 누울 수도 있고 세로로 누울 수도 있다. 누울 때는 무조건 몸을 쭉 뻗기 때문에 반드시 벽이나 짐에 닿게 된다. (중간에 어정쩡하게 눕는 경우가 없다.)\n",
        "\n",
        "![image.png](data:image/png;base64,iVBORw0KGgoAAAANSUhEUgAAALsAAAClCAIAAACLLhvWAAAB/UlEQVR4nO3dQW4CMRQFQRxx/ytPdpGSFS1sxYyrDvAFotFseGJc1/WAl3399wvgwyiGRjE0iqFRDI1iaBRDoxgaxdAohkYxNIqhUQzNc+n1McbS+1Tv/1RhbTGPGS/xxxhj7m8zNj+45/fNU4lGMTSKoVEMjWJoFEOjGBrF0CiGRjE0iqFRDI1iaBRDoxgaxdAohkYxNIqhUQyNYmgUQ6MYGsXQTJ54/b2+5UbrZDaR7x6ceG2FDd+vpxKNYmgUQ6MYGsXQKIZGMTSKoVEMjWJoFEOjGBrF0CiGRjE0iqFRDI1iaBRDoxgaxdAohkYxNIqhsYk8i03knQ/uuQH1VKJRDI1iaBRDoxgaxdAohkYxNIqhUQyNYmgUQ6MYGsXQKIZGMTSKoVEMjWJoFEOjGBrF0CiGRjE0NpFnOW4TOevUOjaR8ItiaBRDoxgaxdAohkYxNIqhUQyNYmgUQ6MYGsXQKIZGMTSKoVEMjWJoFEOjGBrF0CiGRjE0iqGxiTzLB2wi59r5bx2nH7SJ5A4UQ6MYGsXQKIZGMTSKoVEMjWJoFEOjGBrF0CiGRjE0iqFRDI1iaBRDoxgaxdAohkYxNIqhUQyNTeRBpnzWa4vhfjyVaBRDoxgaxdAohkYxNIqhUQyNYmgUQ6MYGsXQKIZGMTSKoVEMjWJoFEOjGJpvPflhO6bML4sAAAAASUVORK5CYII=)\n",
        "\n",
        "만약 방의 구조가 위의 그림처럼 생겼다면, 가로로 누울 수 있는 자리는 5개이고, 세로로 누울 수 있는 자리는 4개 이다. 방의 크기 N과 방의 구조가 주어졌을 때, 가로로 누울 수 있는 자리와 세로로 누울 수 있는 자리의 수를 구하는 프로그램을 작성하시오.\n",
        "\n",
        "입력\n",
        "첫째 줄에 방의 크기 N이 주어진다. N은 1이상 100이하의 정수이다. 그 다음 N줄에 걸쳐 N개의 문자가 들어오는데 '.'은 아무것도 없는 곳을 의미하고, 'X'는 짐이 있는 곳을 의미한다.\n",
        "\n",
        "출력\n",
        "첫째 줄에 가로로 누울 수 있는 자리와 세로로 누울 수 있는 자리의 개수를 출력한다.\n",
        "\n",
        "예제 입력 1 \n",
        "\n",
        "5\n",
        "\n",
        "....X\n",
        "\n",
        "..XX.\n",
        "\n",
        ".....\n",
        "\n",
        ".XX..\n",
        "\n",
        "X....\n",
        "\n",
        "예제 출력 1 \n",
        "\n",
        "5 4"
      ],
      "metadata": {
        "id": "TiKXB0UTpwEp"
      }
    },
    {
      "cell_type": "code",
      "source": [
        "n = int(input())\n",
        "room = []\n",
        "for _ in range(n):\n",
        "  room.append(list(map(str, input())))\n",
        "res = [0, 0]\n",
        "for i in range(n):\n",
        "  cnt_h, cnt_v = 0, 0\n",
        "  for j in range(n):\n",
        "    # 가로\n",
        "    if room[i][j]=='.':\n",
        "      cnt_h +=1\n",
        "    elif room[i][j]=='X':\n",
        "      if cnt_h >= 2:\n",
        "        res[0] += 1\n",
        "      cnt_h = 0\n",
        "    \n",
        "    # 세로\n",
        "    if room[j][i]=='.':\n",
        "      cnt_v +=1\n",
        "    elif room[j][i]=='X':\n",
        "      if cnt_v >= 2:\n",
        "        res[1] += 1\n",
        "      cnt_v = 0\n",
        "\n",
        "    # 행, 열이 '.'로 끝날 때 (XX...)\n",
        "    if j == n-1:\n",
        "      if cnt_h >= 2:\n",
        "        res[0]+=1\n",
        "      if cnt_v >= 2:\n",
        "        res[1]+=1\n",
        "\n",
        "print(\" \".join(map(str, res)))"
      ],
      "metadata": {
        "colab": {
          "base_uri": "https://localhost:8080/"
        },
        "id": "MR1QgIJBqLBb",
        "outputId": "8ed6d281-6185-4cd4-fe92-202bd8b234b9"
      },
      "execution_count": null,
      "outputs": [
        {
          "output_type": "stream",
          "name": "stdout",
          "text": [
            "4\n",
            "...X\n",
            "X...\n",
            "XXX.\n",
            "XX..\n",
            "3 3\n"
          ]
        }
      ]
    },
    {
      "cell_type": "code",
      "source": [
        "# other solution 1\n",
        "n = int(input())\n",
        "board = [list(input().rstrip()) for _ in range(n)]\n",
        "\n",
        "ans = [0,0]\n",
        "for i in range(n):\n",
        "    leng_r,leng_c = 0,0\n",
        "    for j in range(n):\n",
        "        # 가로\n",
        "        if board[i][j] == '.':\n",
        "            leng_r+=1\n",
        "        else:\n",
        "            leng_r=0\n",
        "        if leng_r==2:\n",
        "            ans[0] += 1\n",
        "        \n",
        "        # 세로\n",
        "        if board[j][i] == '.':\n",
        "            leng_c+=1\n",
        "        else:\n",
        "            leng_c=0\n",
        "        if leng_c==2:\n",
        "            ans[1] += 1\n",
        "print(*ans)"
      ],
      "metadata": {
        "id": "q6q75tVBbx08"
      },
      "execution_count": null,
      "outputs": []
    },
    {
      "cell_type": "markdown",
      "source": [
        "## 2621 : 카드게임\n",
        "문제\n",
        "근우는 오늘 재미있는 카드 게임을 배우고 있다. 카드는 빨간색, 파란색, 노란색, 녹색의 네 가지 색이 있고, 색깔별로 1부터 9까지 숫자가 쓰여진 카드가 9장씩 있다. 카드는 모두 36(=4x9)장이다. 근우가 배운 카드 게임은 36장의 카드에서 5장을 뽑고, 아래와 같은 규칙으로 정수를 계산하는 것이다.\n",
        "\n",
        "각 카드는 다음과 같이 나타낸다. 카드의 색깔은 영어 대문자 R, B, Y, G로 나타내는데, R은 빨간색, B는 파란색, Y는 노란색, G는 녹색을 뜻한다. 예를 들어서 Y8은 노란색 8을 나타내고, B5는 파란색 5를 나타낸다.\n",
        "\n",
        "<점수를 정하는 규칙>\n",
        "\n",
        "카드 5장이 모두 같은 색이면서 숫자가 연속적일 때, 점수는 가장 높은 숫자에 900을 더한다. 예를 들어, 카드가 Y4, Y3, Y2, Y5, Y6 일 때 점수는 906(=6+900)점이다.\n",
        "카드 5장 중 4장의 숫자가 같을 때 점수는 같은 숫자에 800을 더한다. 예를 들어, 카드가 B3, R3, B7, Y3, G3 일 때 점수는 803(=3+800)점이다.\n",
        "카드 5장 중 3장의 숫자가 같고 나머지 2장도 숫자가 같을 때 점수는 3장이 같은 숫자에 10을 곱하고 2장이 같은 숫자를 더한 다음 700을 더한다. 예를 들어, 카드가 R5, Y5, G7, B5, Y7 일 때 점수는 757(=5x10+7+700)점이다.\n",
        "5장의 카드 색깔이 모두 같을 때 점수는 가장 높은 숫자에 600을 더한다. 예를 들어, 카드가 Y3, Y4, Y8, Y6, Y7 일 때 점수는 608(=8+600)점이다.\n",
        "카드 5장의 숫자가 연속적일 때 점수는 가장 높은 숫자에 500을 더한다. 예를 들어 R7, R8, G9, Y6, B5 일 때 점수는 509(=9+500)점이다.\n",
        "카드 5장 중 3장의 숫자가 같을 때 점수는 같은 숫자에 400을 더한다. 예를 들어 R7, Y7, R2, G7, R5 일 때 점수는 407(=7+400)점이다.\n",
        "카드 5장 중 2장의 숫자가 같고 또 다른 2장의 숫자가 같을 때 점수는 같은 숫자 중 큰 숫자에 10을 곱하고 같은 숫자 중 작은 숫자를 더한 다음 300을 더한다. 예를 들어, R5, Y5, Y4, G9, B4 일 때 점수는 354(=5X10+4+300)점이다.\n",
        "카드 5장 중 2장의 숫자가 같을 때 점수는 같은 숫자에 200을 더한다. 예를 들어, R5, Y2, B5, B3, G4 일 때 점수는 205(=5+200)점이다.\n",
        "위의 어떤 경우에도 해당하지 않을 때 점수는 가장 큰 숫자에 100을 더한다. 예를 들어, R1, R2, B4, B8, Y5 일 때 점수는 108(=8+100)점이다.\n",
        "입력으로 카드 5장이 주어질 때, 카드 게임의 점수를 구하는 프로그램을 작성하시오. 두 가지 이상의 규칙을 적용할 수 있는 경우에는 가장 높은 점수가 카드 게임의 점수이다.\n",
        "\n",
        "입력\n",
        "첫째 줄부터 다섯째 줄까지 한 줄에 카드 하나씩 입력된다. 카드의 색깔과 숫자 사이에는 빈 칸이 하나 있다.\n",
        "\n",
        "출력\n",
        "한 줄에 카드의 점수를 출력한다.\n",
        "\n",
        "예제 입력 1 \n",
        "B 3\n",
        "B 7\n",
        "R 1\n",
        "B 2\n",
        "Y 7\n",
        "예제 출력 1 \n",
        "207"
      ],
      "metadata": {
        "id": "Y5jlVTzlc32D"
      }
    },
    {
      "cell_type": "code",
      "source": [
        "color = []\n",
        "num = []\n",
        "colors = {'R':0, 'G':0, 'B':0, 'Y':0}\n",
        "nums = [0 for i in range(9)]\n",
        "for i in range(5):\n",
        "  card = input().split()\n",
        "  color.append(card[0])\n",
        "  num.append(int(card[1]))\n",
        "  colors[color[i]]+=1\n",
        "  nums[num[i]-1]+=1\n",
        "\n",
        "sort_num = nums.copy().sort()\n",
        "\n",
        "if 5 in colors.values() and (sort_num[0]+1==sort_num[1]) and (sort_num[1]+1 == sort_num[2]) and (sort_num[2]+1== sort_num[3]) and (sort_num[3]+1 == sort_num[4]):\n",
        "  score = max(num)+900\n",
        "elif 4 in nums:\n",
        "  score = max(num) + 800\n",
        "elif 3 in nums and 2 in nums:\n",
        "  score = (nums.index(3)+1)*10 + (nums.index(2)+1) + 700\n",
        "elif 5 in colors.value():\n",
        "  score = max(num) + 600\n",
        "elif (sort_num[0]+1==sort_num[1]) and (sort_num[1]+1 == sort_num[2]) and (sort_num[2]+1== sort_num[3]) and (sort_num[3]+1 == sort_num[4]):\n",
        "  score = max(num)+500\n",
        "elif 3 in nums:\n",
        "  score = max(num)+400\n",
        "elif 2 in nums:\n",
        "    fi = nums.index(2)\n",
        "    num1 = index.copy()\n",
        "    for i in num1:\n",
        "            if i == first:\n",
        "                nums.remove(i)\n",
        "        nums[first] = 0\n",
        "        if 2 in nums: #7\n",
        "            second = nums.index(2)\n",
        "            score = max(first, second)*10 + min(first, second) + 300\n",
        "        else: #8\n",
        "           s  core = first + 200\n",
        "#9\n",
        "else:\n",
        "    score = max(nums) + 100\n",
        "\n",
        "\n"
      ],
      "metadata": {
        "colab": {
          "base_uri": "https://localhost:8080/",
          "height": 137
        },
        "id": "f1CmFOssdm8O",
        "outputId": "6e6a31ec-291b-4575-c1bd-93543a29a73c"
      },
      "execution_count": null,
      "outputs": [
        {
          "output_type": "error",
          "ename": "IndentationError",
          "evalue": "ignored",
          "traceback": [
            "\u001b[0;36m  File \u001b[0;32m\"<ipython-input-16-2a4807c2b615>\"\u001b[0;36m, line \u001b[0;32m29\u001b[0m\n\u001b[0;31m    for i in num1:\u001b[0m\n\u001b[0m    ^\u001b[0m\n\u001b[0;31mIndentationError\u001b[0m\u001b[0;31m:\u001b[0m unexpected indent\n"
          ]
        }
      ]
    },
    {
      "cell_type": "code",
      "source": [
        "card = [list(input().split()) for _ in range(5)]\n",
        "colors = [i[0] for i in card]\n",
        "numbers = [int(i[1]) for i in card]\n",
        "cnt_color = {'R':0, 'B':0, 'Y':0, 'G':0}\n",
        "cnt_num = [0 for _ in range(11)]\n",
        "for i in range(5):\n",
        "    color, number = card[i][0], int(card[i][1])\n",
        "    cnt_color[color] += 1\n",
        "    cnt_num[number] += 1\n",
        "    \n",
        "#1\n",
        "sort_nums = numbers.copy()\n",
        "sort_nums.sort()\n",
        "if 5 in cnt_color.values() and sort_nums[0]+1 == sort_nums[1] and sort_nums[1]+1 == sort_nums[2] and sort_nums[2]+1 == sort_nums[3] and sort_nums[3]+1 == sort_nums[4]:\n",
        "    score = max(numbers) + 900\n",
        "#2\n",
        "elif 4 in cnt_num:\n",
        "    score = cnt_num.index(4) + 800\n",
        "#3\n",
        "elif 3 in cnt_num and 2 in cnt_num:\n",
        "    score = cnt_num.index(3)*10 + cnt_num.index(2) + 700\n",
        "#4\n",
        "elif 5 in cnt_color.values():\n",
        "    score = max(numbers) + 600\n",
        "#5\n",
        "elif sort_nums[0]+1 == sort_nums[1] and sort_nums[1]+1 == sort_nums[2] and sort_nums[2]+1 == sort_nums[3] and sort_nums[3]+1 == sort_nums[4]:\n",
        "    score = max(numbers) + 500\n",
        "#6\n",
        "elif 3 in cnt_num:\n",
        "    score = cnt_num.index(3) + 400\n",
        "#7, 8\n",
        "elif 2 in cnt_num:\n",
        "    first = cnt_num.index(2)\n",
        "    num1 = numbers.copy()\n",
        "    for i in num1:\n",
        "        if i == first:\n",
        "            numbers.remove(i)\n",
        "    cnt_num[first] = 0\n",
        "    if 2 in cnt_num: #7\n",
        "        second = cnt_num.index(2)\n",
        "        score = max(first, second)*10 + min(first, second) + 300\n",
        "    else: #8\n",
        "        score = first + 200\n",
        "#9\n",
        "else:\n",
        "    score = max(numbers) + 100\n",
        "\n",
        "print(score)"
      ],
      "metadata": {
        "id": "0mxOTFlPCbq5"
      },
      "execution_count": null,
      "outputs": []
    },
    {
      "cell_type": "markdown",
      "source": [
        "## 1110 : 더하기 사이클\n",
        "문제\n",
        "0보다 크거나 같고, 99보다 작거나 같은 정수가 주어질 때 다음과 같은 연산을 할 수 있다. 먼저 주어진 수가 10보다 작다면 앞에 0을 붙여 두 자리 수로 만들고, 각 자리의 숫자를 더한다. 그 다음, 주어진 수의 가장 오른쪽 자리 수와 앞에서 구한 합의 가장 오른쪽 자리 수를 이어 붙이면 새로운 수를 만들 수 있다. 다음 예를 보자.\n",
        "\n",
        "26부터 시작한다. 2+6 = 8이다. 새로운 수는 68이다. 6+8 = 14이다. 새로운 수는 84이다. 8+4 = 12이다. 새로운 수는 42이다. 4+2 = 6이다. 새로운 수는 26이다.\n",
        "\n",
        "위의 예는 4번만에 원래 수로 돌아올 수 있다. 따라서 26의 사이클의 길이는 4이다.\n",
        "\n",
        "N이 주어졌을 때, N의 사이클의 길이를 구하는 프로그램을 작성하시오.\n",
        "\n",
        "입력\n",
        "첫째 줄에 N이 주어진다. N은 0보다 크거나 같고, 99보다 작거나 같은 정수이다.\n",
        "\n",
        "출력\n",
        "첫째 줄에 N의 사이클 길이를 출력한다.\n",
        "\n",
        "예제 입력 1 \n",
        "26\n",
        "예제 출력 1 \n",
        "4\n",
        "예제 입력 2 \n",
        "55\n",
        "예제 출력 2 \n",
        "3\n",
        "예제 입력 3 \n",
        "1\n",
        "예제 출력 3 \n",
        "60\n",
        "예제 입력 4 \n",
        "0\n",
        "예제 출력 4 \n",
        "1\n",
        "예제 입력 5 \n",
        "71\n",
        "예제 출력 5 \n",
        "12"
      ],
      "metadata": {
        "id": "eroncnXXCRDQ"
      }
    },
    {
      "cell_type": "code",
      "source": [
        "n = int(input())\n",
        "num = 0\n",
        "cycle = 0\n",
        "while True:\n",
        "  a = n//10\n",
        "  b = n%10\n",
        "  c = (a+b)%10\n",
        "  num = (10*b)+c\n",
        "\n",
        "  cycle +=1\n",
        "  if num == n:\n",
        "    break\n",
        "\n",
        "print(cycle)"
      ],
      "metadata": {
        "id": "bavNEpW2JuZW"
      },
      "execution_count": null,
      "outputs": []
    },
    {
      "cell_type": "markdown",
      "source": [
        "## 2816 : 디지털 티비\n",
        "문제\n",
        "2012년 12월 31일 새벽 4시부터 지상파 아날로그 TV방송이 종료되었다. TV를 자주보는 할머니를 위해서, 상근이네 집도 디지털 수신기를 구입했다.\n",
        "\n",
        "원래 상근이네 집에는 KBS1과 KBS2만 나왔다. 할머니는 두 방송만 시청한다. 이제 디지털 수신기와 함께 엄청난 양의 채널을 볼 수 있게 되었다.  하지만, 할머니는 오직 KBS1과 KBS2만 보려고 한다. 따라서, 상근이는 채널 리스트를 조절해 KBS1을 첫 번째로, KBS2를 두 번째로 만들려고 한다.\n",
        "\n",
        "티비를 켜면 디지털 수신기는 시청 가능한 채널 리스트를 보여준다. 모든 채널의 이름은 서로 다르고, 항상 KBS1과 KBS2를 포함하고 있다. 상근이는 이 리모콘을 이용해서 리스트의 순서를 바꾸는 법을 알아냈다. 리스트의 왼편에는 작은 화살표가 있고, 이 화살표는 현재 선택한 채널을 나타낸다. 가장 처음에 화살표는 제일 첫 번째 채널을 가리키고 있다.\n",
        "\n",
        "다음과 같은 네 가지 버튼을 이용해서 리스트의 순서를 바꿀 수 있다. 각각은 1번부터 4번까지 번호가 적혀져있는 버튼이다.\n",
        "\n",
        "화살표를 한 칸 아래로 내린다. (채널 i에서 i+1로)\n",
        "화살표를 위로 한 칸 올린다. (채널 i에서 i-1로)\n",
        "현재 선택한 채널을 한 칸 아래로 내린다. (채널 i와 i+1의 위치를 바꾼다. 화살표는 i+1을 가리키고 있는다)\n",
        "현재 선택한 채널을 위로 한 칸 올린다. (채널 i와 i-1의 위치를 바꾼다. 화살표는 i-1을 가리키고 있다)\n",
        "화살표가 채널 리스트의 범위를 넘어간다면, 그 명령은 무시한다.\n",
        "\n",
        "현재 채널 리스트의 순서가 주어졌을 때, KBS1를 첫 번째로, KBS2를 두 번째로 순서를 바꾸는 방법을 구하는 프로그램을 작성하시오. 방법의 길이는 500보다 작아야 한다. 두 채널을 제외한 나머지 채널의 순서는 상관없다.\n",
        "\n",
        "입력\n",
        "첫째 줄에 채널의 수 N이 주어진다. (2 ≤ N ≤ 100)\n",
        "\n",
        "다음 N개 줄에는 채널의 이름이 한 줄에 하나씩 주어진다. 채널의 이름은 최대 10글자이고, 알파벳 대문자와 숫자로만 이루어져 있다.\n",
        "\n",
        "이미 KBS1이 첫 번째에, KBS2가 두 번째에 있는 입력은 주어지지 않는다.\n",
        "\n",
        "출력\n",
        "상근이가 눌러야 하는 버튼을 순서대로 공백없이 출력한다.\n",
        "\n",
        "예제 입력 1 \n",
        "3\n",
        "MBC\n",
        "KBS1\n",
        "KBS2\n",
        "예제 출력 1 \n",
        "33\n",
        "예제 입력 2 \n",
        "4\n",
        "ABC1\n",
        "ABC02\n",
        "KBS2\n",
        "KBS1\n",
        "예제 출력 2 \n",
        "11144411144"
      ],
      "metadata": {
        "id": "AI82TMK6VGmz"
      }
    },
    {
      "cell_type": "code",
      "source": [
        "n = int(input())\n",
        "channel = [input() for _ in range(n)]\n",
        "idx1, idx2 = channel.index('KBS1'), channel.index('KBS2')\n",
        "\n",
        "if idx1 > idx2:\n",
        "  idx2 += 1\n",
        "\n",
        "print('1'*idx1 + '4'*idx1 + '1'*idx2 + '4'*(idx2-1))"
      ],
      "metadata": {
        "id": "Yn7SG4SSVKmP"
      },
      "execution_count": null,
      "outputs": []
    },
    {
      "cell_type": "markdown",
      "source": [
        "## 8979 : 올림픽\n",
        "문제\n",
        "올림픽은 참가에 의의가 있기에 공식적으로는 국가간 순위를 정하지 않는다. 그러나, 많은 사람들이 자신의 국가가 얼마나 잘 하는지에 관심이 많기 때문에 비공식적으로는 국가간 순위를 정하고 있다. 두 나라가 각각 얻은 금, 은, 동메달 수가 주어지면, 보통 다음 규칙을 따라 어느 나라가 더 잘했는지 결정한다.\n",
        "\n",
        "금메달 수가 더 많은 나라 \n",
        "금메달 수가 같으면, 은메달 수가 더 많은 나라\n",
        "금, 은메달 수가 모두 같으면, 동메달 수가 더 많은 나라 \n",
        "각 국가는 1부터 N 사이의 정수로 표현된다. 한 국가의 등수는 (자신보다 더 잘한 나라 수) + 1로 정의된다. 만약 두 나라가 금, 은, 동메달 수가 모두 같다면 두 나라의 등수는 같다. 예를 들어, 1번 국가가 금메달 1개, 은메달 1개를 얻었고, 2번 국가와 3번 국가가 모두 은메달 1개를 얻었으며, 4번 국가는 메달을 얻지 못하였다면, 1번 국가가 1등, 2번 국가와 3번 국가가 공동 2등, 4번 국가가 4등이 된다. 이 경우 3등은 없다. \n",
        "\n",
        "각 국가의 금, 은, 동메달 정보를 입력받아서, 어느 국가가 몇 등을 했는지 알려주는 프로그램을 작성하시오. \n",
        "\n",
        "입력\n",
        "입력의 첫 줄은 국가의 수 N(1 ≤ N ≤ 1,000)과 등수를 알고 싶은 국가 K(1 ≤ K ≤ N)가 빈칸을 사이에 두고 주어진다. 각 국가는 1부터 N 사이의 정수로 표현된다. 이후 N개의 각 줄에는 차례대로 각 국가를 나타내는 정수와 이 국가가 얻은 금, 은, 동메달의 수가 빈칸을 사이에 두고 주어진다. 전체 메달 수의 총합은 1,000,000 이하이다.\n",
        "\n",
        "출력\n",
        "출력은 단 한 줄이며, 입력받은 국가 K의 등수를 하나의 정수로 출력한다. 등수는 반드시 문제에서 정의된 방식을 따라야 한다. \n",
        "\n",
        "서브태스크\n",
        "번호\t배점\t제한\n",
        "1\t8\t\n",
        "예제 입력, 출력\n",
        "\n",
        "2\t12\t\n",
        "N = 2\n",
        "\n",
        "3\t20\t\n",
        "모든 국가의 은메달 및 동메달 획득 수는 0\n",
        "\n",
        "4\t25\t\n",
        "N ≤ 500\n",
        "\n",
        "5\t35\t\n",
        "추가적인 제약 조건은 없다.\n",
        "\n",
        "예제 입력 1 \n",
        "4 3\n",
        "1 1 2 0\n",
        "2 0 1 0\n",
        "3 0 1 0\n",
        "4 0 0 1\n",
        "예제 출력 1 \n",
        "2\n",
        "예제 입력 2 \n",
        "4 2\n",
        "1 3 0 0\n",
        "3 0 0 2\n",
        "4 0 2 0\n",
        "2 0 2 0\n",
        "예제 출력 2 \n",
        "2"
      ],
      "metadata": {
        "id": "YzrU57Idf2hK"
      }
    },
    {
      "cell_type": "code",
      "source": [
        "# sol1)\n",
        "n, k = map(int, input().split())\n",
        "rank_table = []\n",
        "\n",
        "for _ in range(n):\n",
        "    ranking = list(map(int, input().split()))\n",
        "    if ranking[0] != k:\n",
        "        rank_table.append(ranking)\n",
        "    else:\n",
        "        standard = ranking\n",
        "\n",
        "count = 1\n",
        "for i in range(len(rank_table)):\n",
        "    if rank_table[i][1] > standard[1]:\n",
        "        count += 1\n",
        "\n",
        "    elif rank_table[i][1] == standard[1]:\n",
        "        if rank_table[i][2] > standard[2]:\n",
        "            count += 1\n",
        "\n",
        "        elif rank_table[i][2] == standard[2]:\n",
        "            if rank_table[i][3] > standard[3]:\n",
        "                count += 1\n",
        "    \n",
        "print(count)\n"
      ],
      "metadata": {
        "id": "Xb57UaFNf-DE"
      },
      "execution_count": null,
      "outputs": []
    },
    {
      "cell_type": "code",
      "source": [
        "n,k = map(int, input().split())\n",
        "rank_t = []\n",
        "\n",
        "for _ in range(n):\n",
        "  ranking = list(map(int, input().split()))\n",
        "  if ranking[0]"
      ],
      "metadata": {
        "id": "hqUvxypAeGMy"
      },
      "execution_count": null,
      "outputs": []
    }
  ]
}